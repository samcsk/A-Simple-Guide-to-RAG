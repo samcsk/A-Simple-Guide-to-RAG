{
 "cells": [
  {
   "cell_type": "markdown",
   "metadata": {},
   "source": [
    "<a href=\"https://mng.bz/8wdg\" target=\"_blank\">\n",
    "    <img src=\"../../Assets/Images/NewMEAPHeader.png\" alt=\"New MEAP\" style=\"width: 100%;\" />\n",
    "</a>\n"
   ]
  },
  {
   "cell_type": "markdown",
   "metadata": {},
   "source": [
    "# Chapter 03 - Indexing Pipeline: Creating a Knowledge Base for RAG-based Applications"
   ]
  },
  {
   "cell_type": "markdown",
   "metadata": {},
   "source": [
    "### Welcome to chapter 3 of A Simple Introduction to Retrieval Augmented Generation. This is the first chapter of the book where we use code examples in python.\n",
    "\n",
    "In this chapter, we introduce the concepts behind the indexing pipeline that facilitates building a knowledge base for RAG enabled applications"
   ]
  },
  {
   "cell_type": "markdown",
   "metadata": {},
   "source": [
    "The example that we have been following is to ask the question - __Who won the 2023 Cricket World Cup?__ to a Large Language Model. We are fetching context from a __Wikipedia Article__ - https://en.wikipedia.org/wiki/2023_Cricket_World_Cup\n",
    "\n",
    "We first did this manually with ChatGPT. Now, we will do this programatically. We will be using a very popular orchestration framework in python called __LangChain__ - https://www.langchain.com/"
   ]
  },
  {
   "cell_type": "markdown",
   "metadata": {},
   "source": [
    "<img src=\"../../Assets/Images/3.1.png\">"
   ]
  },
  {
   "cell_type": "markdown",
   "metadata": {},
   "source": [
    "## Installing Dependencies"
   ]
  },
  {
   "cell_type": "markdown",
   "metadata": {},
   "source": [
    "All the necessary libraries for running this notebook along with their versions can be found in __requirements.txt__ file in the root directory of this repository\n",
    "\n",
    "You should go to the root directory and run the following command to install the libraries\n",
    "\n",
    "```\n",
    "pip install -r requirements.txt\n",
    "```\n",
    "\n",
    "This is the recommended method of installing the dependencies\n",
    "\n",
    "___\n",
    "Alternatively, you can run the command from this notebook too. The relative path may vary"
   ]
  },
  {
   "cell_type": "code",
   "execution_count": 2,
   "metadata": {},
   "outputs": [
    {
     "name": "stdout",
     "output_type": "stream",
     "text": [
      "Note: you may need to restart the kernel to use updated packages.\n"
     ]
    }
   ],
   "source": [
    "%pip install -r ../../requirements.txt --quiet"
   ]
  },
  {
   "cell_type": "markdown",
   "metadata": {},
   "source": [
    "## 1. Loading Data"
   ]
  },
  {
   "cell_type": "markdown",
   "metadata": {},
   "source": [
    "The first step towards building a knowledge base (or non-parametric memory) of a RAG-enabled system is to source data from its original location. This data may be in the form of word documents, pdf files, csv, HTML etc. Further, the data may be stored in file, block or object stores, in data lakes, data warehouses or even in third party sources that can be accessed via the open internet. This process of sourcing data from its original location is called __Data Loading__. \n",
    "\n",
    "Data Loading includes the following four steps:\n",
    "- __Connection__ to the source of the data\n",
    "- __Extraction and Parsing of text__ from the source format\n",
    "- Reviewing and updating __metadata__ information\n",
    "- Cleaning or __transforming__ the data\n"
   ]
  },
  {
   "cell_type": "markdown",
   "metadata": {},
   "source": [
    "<img src=\"../../Assets/Images/3.2.png\" width=400>"
   ]
  },
  {
   "cell_type": "markdown",
   "metadata": {},
   "source": [
    "#### __Connecting & Parsing an external URL__"
   ]
  },
  {
   "cell_type": "markdown",
   "metadata": {},
   "source": [
    "We will now use LangChain to __connect to Wikipedia__ and __extract data__ from the page about the 2023 Cricket World Cup. For this we will use the __AsyncHtmlLoader__ function from the document_loaders library in the langchain-community package.\n",
    "\n",
    "Let us load the url of our example i.e. the Wikipedia Page of the 2023 Cricket World Cup"
   ]
  },
  {
   "cell_type": "code",
   "execution_count": 3,
   "metadata": {},
   "outputs": [],
   "source": [
    "import warnings\n",
    "\n",
    "# Ignore all warnings\n",
    "warnings.filterwarnings(\"ignore\")\n",
    "\n",
    "#This is the url of the wikipedia page on the 2023 Cricket World Cup\n",
    "url=\"https://en.wikipedia.org/wiki/2023_Cricket_World_Cup\""
   ]
  },
  {
   "cell_type": "code",
   "execution_count": 4,
   "metadata": {},
   "outputs": [
    {
     "name": "stderr",
     "output_type": "stream",
     "text": [
      "USER_AGENT environment variable not set, consider setting it to identify your requests.\n",
      "Fetching pages: 100%|##########| 1/1 [00:00<00:00,  1.33it/s]\n"
     ]
    }
   ],
   "source": [
    "#Import library\n",
    "from langchain_community.document_loaders import AsyncHtmlLoader\n",
    "\n",
    "#Instantiate the AsyncHtmlLoader object\n",
    "loader = AsyncHtmlLoader (url)\n",
    "\n",
    "#Loading the extracted information\n",
    "html_data = loader.load()\n"
   ]
  },
  {
   "cell_type": "markdown",
   "metadata": {},
   "source": [
    "To verify the extracted text and the metadata, let us print a few tokens"
   ]
  },
  {
   "cell_type": "code",
   "execution_count": 5,
   "metadata": {},
   "outputs": [
    {
     "name": "stdout",
     "output_type": "stream",
     "text": [
      "First 1000 characters of extracted content -  <!DOCTYPE html> <html class=\"client-nojs vector-feature-language-in-header-enabled vector-feature-\n",
      "language-in-main-page-header-disabled vector-feature-page-tools-pinned-disabled vector-feature-toc-pinned-clientpref-1 vector-feature-main-menu-\n",
      "pinned-disabled vector-feature-limited-width-clientpref-1 vector-feature-limited-width-content-enabled vector-feature-custom-font-size-clientpref-1\n",
      "vector-feature-appearance-pinned-clientpref-1 vector-feature-night-mode-enabled skin-theme-clientpref-day vector-sticky-header-enabled vector-toc-\n",
      "available\" lang=\"en\" dir=\"ltr\"> <head> <meta charset=\"UTF-8\"> <title>2023 Cricket World Cup - Wikipedia</title> <script>(function(){var\n",
      "className=\"client-js vector-feature-language-in-header-enabled vector-feature-language-in-main-page-header-disabled vector-feature-page-tools-pinned-\n",
      "disabled vector-feature-toc-pinned-clientpref-1 vector-feature-main-menu-pinned-disabled vector-feature-limited-width-clientpref-1 vector-feature-\n",
      "limited-width-content-enabled vec\n"
     ]
    }
   ],
   "source": [
    "import textwrap\n",
    "\n",
    "print(textwrap.fill(f\"First 1000 characters of extracted content -\\n\\n{html_data[0].page_content[:1000]}\", width=150))"
   ]
  },
  {
   "cell_type": "markdown",
   "metadata": {},
   "source": [
    "#### __Metadata Review__"
   ]
  },
  {
   "cell_type": "code",
   "execution_count": 6,
   "metadata": {},
   "outputs": [
    {
     "name": "stdout",
     "output_type": "stream",
     "text": [
      "Metadata information - \n",
      "\n",
      "{'source': 'https://en.wikipedia.org/wiki/2023_Cricket_World_Cup', 'title': '2023 Cricket World Cup - Wikipedia', 'language': 'en'}\n"
     ]
    }
   ],
   "source": [
    "print(f\"Metadata information - \\n\\n{html_data[0].metadata}\")"
   ]
  },
  {
   "cell_type": "markdown",
   "metadata": {},
   "source": [
    "We can see that some __content has been extracted__. Also, some __metadata__ information is present."
   ]
  },
  {
   "cell_type": "markdown",
   "metadata": {},
   "source": [
    "#### __Document Transformation__\n",
    "\n",
    "The content is in __HTML format__ which does not convey a lot of factual information. \n",
    "\n",
    "LangChain also provides a bunch of document transformers for converting formats.\n",
    "\n",
    "\n",
    "We will now transform this data into a readable format using __Html2TextTransformer__ class."
   ]
  },
  {
   "cell_type": "code",
   "execution_count": 7,
   "metadata": {},
   "outputs": [],
   "source": [
    "from langchain_community.document_transformers import Html2TextTransformer\n",
    "\n",
    "#Instantiate the Html2TextTransformer function\n",
    "html2text = Html2TextTransformer()\n",
    "\n",
    "\n",
    "#Call transform_documents\n",
    "html_data_transformed = html2text.transform_documents(html_data)"
   ]
  },
  {
   "cell_type": "markdown",
   "metadata": {},
   "source": [
    "Let us review the extracted content, now transformed by the Html2TextTransformer"
   ]
  },
  {
   "cell_type": "code",
   "execution_count": 8,
   "metadata": {},
   "outputs": [
    {
     "name": "stdout",
     "output_type": "stream",
     "text": [
      "First 100 characters of extracted content -\n",
      "\n",
      "Jump to content\n",
      "\n",
      "Main menu\n",
      "\n",
      "Main menu\n",
      "\n",
      "move to sidebar hide\n",
      "\n",
      "Navigation\n",
      "\n",
      "  * Main page\n",
      "  * Contents\n",
      "  * Current events\n",
      "  * Random article\n",
      "  * About Wikipedia\n",
      "  * Contact us\n",
      "\n",
      "Contribute\n",
      "\n",
      "  * Help\n",
      "  * Learn to edit\n",
      "  * Community portal\n",
      "  * Recent changes\n",
      "  * Upload file\n",
      "  * Special pages\n",
      "\n",
      "Search\n",
      "\n",
      "Search\n",
      "\n",
      "Appearance\n",
      "\n",
      "  * Donate\n",
      "  * Create account\n",
      "  * Log in\n",
      "\n",
      "Personal tools\n",
      "\n",
      "  * Donate\n",
      "  * Create account\n",
      "  * Log in\n",
      "\n",
      "Pages for logged out editors learn more\n",
      "\n",
      "  * Contributions\n",
      "  * Talk\n",
      "\n",
      "## Contents\n",
      "\n",
      "move to sidebar hide\n",
      "\n",
      "  * (Top)\n",
      "\n",
      "  * 1 Background\n",
      "\n",
      "Toggle Background subsection\n",
      "\n",
      "    * 1.1 Host selection\n",
      "\n",
      "    * 1.2 COVID-19 pandemic\n",
      "\n",
      "    * 1.3 Format\n",
      "\n",
      "    * 1.4 Pakistan's participation\n",
      "\n",
      "    * 1.5 Prize money\n",
      "\n",
      "    * 1.6 Marketing\n",
      "\n",
      "  * 2 Qualification\n",
      "\n",
      "  * 3 Venues\n",
      "\n",
      "  * 4 Squads\n",
      "\n",
      "  * 5 Match officials\n",
      "\n",
      "  * 6 Warm-up matches\n",
      "\n",
      "  * 7 Group stage\n",
      "\n",
      "Toggle Group stage subsection\n",
      "\n",
      "    * 7.1 Points table\n",
      "\n",
      "    * 7.2 Results\n",
      "\n",
      "  * 8 Knockout stage\n",
      "\n",
      "Toggle Knockout stage subsection\n",
      "\n",
      "    * 8.1 Semi-finals\n",
      "\n",
      " \n"
     ]
    }
   ],
   "source": [
    "print(f\"First 100 characters of extracted content -\\n\\n{html_data_transformed[0].page_content[:1000]}\")"
   ]
  },
  {
   "cell_type": "markdown",
   "metadata": {},
   "source": [
    "Now, we see that we have text in a __readable english__ language!"
   ]
  },
  {
   "cell_type": "markdown",
   "metadata": {},
   "source": [
    "#### __Optional: BeautifulSoupTransformer__\n",
    "\n",
    "\n",
    "But you may notics that there's a lot of information like Menu Options, Header and footer information that may not be very useful.\n",
    "\n",
    "Another options is the __BeautifulSoupTransformer__ in LangChain that allows you to extract specific tags from HTML pages. Let us extract information contained in 'p' tags."
   ]
  },
  {
   "cell_type": "code",
   "execution_count": 9,
   "metadata": {},
   "outputs": [],
   "source": [
    "from langchain_community.document_transformers import BeautifulSoupTransformer\n",
    "\n",
    "soup_transformer = BeautifulSoupTransformer()\n",
    "\n",
    "html_data_p_tags = soup_transformer.transform_documents(html_data, tags_to_extract=[\"p\"])\n"
   ]
  },
  {
   "cell_type": "code",
   "execution_count": 10,
   "metadata": {},
   "outputs": [
    {
     "name": "stdout",
     "output_type": "stream",
     "text": [
      "First 100 characters of extracted content -  The 2023 ICC Men's Cricket World Cup was the 13th\n",
      "edition of the ICC Men's Cricket World Cup (/wiki/ICC_Men%27s_Cricket_World_Cup) , a quadrennial One\n",
      "Day International (/wiki/One_Day_International) (ODI) cricket (/wiki/Cricket) tournament organized\n",
      "by the International Cricket Council (/wiki/International_Cricket_Council) (ICC). It was hosted from\n",
      "5 October to 19 November 2023 across ten venues in India (/wiki/India) . This was the fourth World\n",
      "Cup held in India, but the first where India was the sole host. The tournament was contested by ten\n",
      "national teams, maintaining the same format used in 2019 (/wiki/2019_Cricket_World_Cup) . After six\n",
      "weeks of round-robin matches, India (/wiki/India_national_cricket_team) , South Africa\n",
      "(/wiki/South_Africa_national_cricket_team) , Australia (/wiki/Australia_national_cricket_team) , and\n",
      "New Zealand (/wiki/New_Zealand_national_cricket_team) finished as the top four and qualified for the\n",
      "knockout stage. In the knockout stage, India and Australia be\n"
     ]
    }
   ],
   "source": [
    "print(textwrap.fill(\n",
    "f\"First 100 characters of extracted content -\\n\\n{html_data_p_tags[0].page_content[:1000]}\", width=100))"
   ]
  },
  {
   "cell_type": "markdown",
   "metadata": {},
   "source": [
    "#### __Congratulations__\n",
    "\n",
    "With this, we have successfully completed the data loading step of the indexing pipeline. We move now to the next step of __Chunking__\n",
    "\n",
    "But before that, check out the document loaders and transformers available in LangChain\n",
    "\n",
    "__Document Loaders__  - [https://python.langchain.com/docs/integrations/document_loaders/]\n",
    "\n",
    "__Document Transformers__ - [https://python.langchain.com/docs/integrations/document_transformers/]"
   ]
  },
  {
   "cell_type": "markdown",
   "metadata": {},
   "source": [
    "---"
   ]
  },
  {
   "cell_type": "markdown",
   "metadata": {},
   "source": [
    "## 2. Data Splitting (Chunking)"
   ]
  },
  {
   "cell_type": "markdown",
   "metadata": {},
   "source": [
    "Breaking down long pieces of text into manageable sizes is called __Data Splitting__ or __Chunking__. This is done for various reasons like Context Window Limitations, Search Complexity, Lost in the middle kind of issues.\n",
    "\n",
    "### <span style=\"color:#47c7fc\">Understanding Chunking: What is it ?</span>\n",
    "\n",
    "In cognitive psychology, chunking is defined as process by which individual pieces of information are bound together into a meaningful whole. (https://psycnet.apa.org/record/2003-09163-002) and a chunk is a familiar collection of elementary units. The idea is that chunking is an essential technique through which human beings perceive the world and commit to memory. The simplest example is how we remember long sequences of digits like phone numbers, credit card numbers, dates or even OTPs. We don’t remember the entire sequences but in our minds, we break them down into chunks.\n",
    "\n",
    "The role of chunking in RAG and the underlying idea is somewhat similar to what it is in real life. Once you’ve extracted and parsed text from the source, instead of committing it all to memory as a single element, you break it down into smaller chunks.\n",
    "\n",
    "> Breaking down long pieces of text into manageable sizes is called Chunking"
   ]
  },
  {
   "cell_type": "markdown",
   "metadata": {},
   "source": [
    "### <span style=\"color:#47c7fc\">Understanding Chunking: Why is it necessary ?</span>\n",
    "There are two main benefits of chunking —\n",
    "\n",
    "- It leads to better retrieval of information. If a chunk represents a single idea (or fact) it can be retrieved with more confidence that if there are multiple ideas (or facts) within the same chunk.\n",
    "- It leads to better generation. The retrieved chunk has information that is focussed on the user query and does not have any other text that may confuse the LLM. Therefore, the generation is more accurate and coherent.\n",
    "\n",
    "Apart from these two benefits there are two limitations of LLMs that chunking addresses.\n",
    "\n",
    "- __Context Window of LLMs__: LLMs, due to the inherent nature of the technology, have a limit on the number of tokens (loosely, words) they can work with at a time. This includes both the number of tokens in the prompt (or the input) and the number of tokens in the completion (or the output). The limit on the total number of tokens that an LLM can process in one go is called the context window size. If we pass an input that is longer than the context window size, the LLM chooses to ignore all text beyond the size. It becomes very important to be careful with the amount to text that is being passed to the LLM.\n",
    "\n",
    "- __Lost in the middle problem__: Even in those LLMs which have a long context window (Claude 3 by Anthropic has a context window of up to 200,00 tokens), an issue with accurately reading the information has been observed. It has been noticed that accuracy declines dramatically if the relevant information is somewhere in the middle of the prompt. This problem can be addressed by passing only the relevant information to the LLM instead of the entire document."
   ]
  },
  {
   "cell_type": "markdown",
   "metadata": {},
   "source": [
    "### <span style=\"color:#47c7fc\">Fixed Size Chunking</span>\n",
    "\n",
    "A very common approach is to pre-determine the size of the chunk and the amount of overlap between the chunks. There are several chunking methods that follow a fixed size chunking approach.\n",
    "\n",
    "- Character-Based Chunking: Chunks are created based on a fixed number of characters\n",
    "\n",
    "- Token-Based Chunking: Chunks are created based on a fixed number of tokens.\n",
    "\n",
    "- Sentence-Based Chunking: Chunks are defined by a fixed number of sentences\n",
    "\n",
    "- Paragraph-Based Chunking: Chunks are created by dividing the text into a fixed number of paragraphs."
   ]
  },
  {
   "cell_type": "markdown",
   "metadata": {},
   "source": [
    "Let's try Character-Based Chunking. "
   ]
  },
  {
   "cell_type": "code",
   "execution_count": 11,
   "metadata": {},
   "outputs": [
    {
     "name": "stdout",
     "output_type": "stream",
     "text": [
      "The number of chunks created : 58\n"
     ]
    }
   ],
   "source": [
    "from langchain.text_splitter import CharacterTextSplitter #Character Based Text Splitter from LangChain\n",
    "\n",
    "text_splitter = CharacterTextSplitter(\n",
    "separator=\"\\n\", #The character that should be used to split.\n",
    "chunk_size=1000, #Number of characters in each chunk \n",
    "chunk_overlap=100, #Number of overlapping characters between chunks\n",
    ")\n",
    "\n",
    "text_chunks=text_splitter.create_documents([html_data_transformed[0].page_content])\n",
    "\n",
    "#Show the number of chunks created\n",
    "print(f\"The number of chunks created : {len(text_chunks)}\")\n"
   ]
  },
  {
   "cell_type": "markdown",
   "metadata": {},
   "source": [
    "In all, this method created 61 chunks. But what about the overlap. Let us check two chunks at random, say, chunk 4 and chunk 5. We will compare the last 200 characters of chunk 4 with the first 200 characters of chunk 5."
   ]
  },
  {
   "cell_type": "code",
   "execution_count": 12,
   "metadata": {},
   "outputs": [
    {
     "data": {
      "text/plain": [
       "'on was to be played from 9 February to 26 March\\n2023.[3][4] In July 2020 it was announced that due to the disruption of the\\nqualification schedule by the COVID-19 pandemic, the start of the tournament'"
      ]
     },
     "execution_count": 12,
     "metadata": {},
     "output_type": "execute_result"
    }
   ],
   "source": [
    "text_chunks[4].page_content[-200:]"
   ]
  },
  {
   "cell_type": "code",
   "execution_count": 13,
   "metadata": {},
   "outputs": [
    {
     "data": {
      "text/plain": [
       "'qualification schedule by the COVID-19 pandemic, the start of the tournament\\nwould be delayed to October.[5][6] The ICC released the tournament schedule on\\n27 June 2023.[7][8]\\n### Format\\nThis was the '"
      ]
     },
     "execution_count": 13,
     "metadata": {},
     "output_type": "execute_result"
    }
   ],
   "source": [
    "text_chunks[5].page_content[:200]"
   ]
  },
  {
   "cell_type": "markdown",
   "metadata": {},
   "source": [
    "Now, let's see the size distribution of the chunks that have been created"
   ]
  },
  {
   "cell_type": "code",
   "execution_count": 14,
   "metadata": {},
   "outputs": [
    {
     "data": {
      "image/png": "[encoded data removed]",
      "text/plain": [
       "<Figure size 640x480 with 1 Axes>"
      ]
     },
     "metadata": {},
     "output_type": "display_data"
    },
    {
     "name": "stdout",
     "output_type": "stream",
     "text": [
      "The median chunk length is : 979.5\n",
      "The average chunk length is : 944.72\n",
      "The minimum chunk length is : 111\n",
      "The max chunk length is : 998\n",
      "The 75th percentile chunk length is : 985.0\n",
      "The 25th percentile chunk length is : 949.0\n"
     ]
    }
   ],
   "source": [
    "import matplotlib.pyplot as plt\n",
    "import numpy as np\n",
    "\n",
    "\n",
    "data = [len(doc.page_content) for doc in text_chunks]\n",
    "\n",
    "plt.boxplot(data)  \n",
    "plt.title('Box Plot of chunk lengths') \n",
    "plt.xlabel('Chunk Lengths')  \n",
    "plt.ylabel('Values') \n",
    "\n",
    "plt.show()\n",
    "\n",
    "print(f\"The median chunk length is : {round(np.median(data),2)}\")\n",
    "print(f\"The average chunk length is : {round(np.mean(data),2)}\")\n",
    "print(f\"The minimum chunk length is : {round(np.min(data),2)}\")\n",
    "print(f\"The max chunk length is : {round(np.max(data),2)}\")\n",
    "print(f\"The 75th percentile chunk length is : {round(np.percentile(data, 75),2)}\")\n",
    "print(f\"The 25th percentile chunk length is : {round(np.percentile(data, 25),2)}\")"
   ]
  },
  {
   "cell_type": "markdown",
   "metadata": {},
   "source": [
    "### <span style=\"color:#47c7fc\">Document-structured based Chunking</span>\n",
    "\n",
    "The aim of chunking is to keep meaningful data together. If we are dealing with data in form of HTML, Markdown, JSON or even computer code, it makes more sense to split the data based on the structure rather than a fixed size. Another approach for chunking is to take into consideration the format of the extracted and loaded data. A markdown file, for example is organised by headers, a code written in a programming language like python or java is organized by classes and functions and HTML, likewise, is organised in headers and sections. For such formats a specialised chunking approach can be employed.\n",
    "\n",
    "Examples of structure-based splitting:\n",
    "\n",
    "- Markdown: Split based on headers (e.g., #, ##, ###)\n",
    "- HTML: Split using tags\n",
    "- JSON: Split by object or array elements\n",
    "- Code: Split by functions, classes, or logical blocks\n",
    "\n",
    "\n",
    "Let's recollect out HTML document from the url."
   ]
  },
  {
   "cell_type": "code",
   "execution_count": 15,
   "metadata": {},
   "outputs": [
    {
     "name": "stderr",
     "output_type": "stream",
     "text": [
      "Fetching pages: 100%|##########| 1/1 [00:00<00:00,  1.45it/s]\n"
     ]
    }
   ],
   "source": [
    "loader = AsyncHtmlLoader (url)\n",
    "\n",
    "html_data = loader.load()"
   ]
  },
  {
   "cell_type": "markdown",
   "metadata": {},
   "source": [
    "To split the HTML text based on tags (e.g., h1, section, table, etc.), LangChain provides __HTMLSectionSplitter__. It splits the text and adds metadata for each section. Let's take a look.\n"
   ]
  },
  {
   "cell_type": "code",
   "execution_count": 16,
   "metadata": {},
   "outputs": [],
   "source": [
    "from langchain_text_splitters import HTMLSectionSplitter\n",
    "\n",
    "sections_to_split_on = [\n",
    "    (\"h1\", \"Header 1\"),\n",
    "     (\"h2\", \"Header 2\"),\n",
    "     (\"table\",\"Table\"),\n",
    "     #(\"div\", \"Div\"),\n",
    "     #(\"img\",\"Image\"),\n",
    "     (\"p\",\"P\"),\n",
    "\n",
    "\n",
    "]\n",
    "\n",
    "splitter = HTMLSectionSplitter(sections_to_split_on)\n",
    "\n",
    "split_content = splitter.split_text(html_data[0].page_content)"
   ]
  },
  {
   "cell_type": "markdown",
   "metadata": {},
   "source": [
    "The above document object '__split_content__' will have chunks divided based on the provided HTML tags. Let's look at the top 10 documents."
   ]
  },
  {
   "cell_type": "code",
   "execution_count": 17,
   "metadata": {},
   "outputs": [
    {
     "data": {
      "text/plain": [
       "[Document(metadata={'Header 1': '#TITLE#'}, page_content='Jump to content \\n \\n \\n \\n \\n \\n \\n \\n Main menu \\n \\n \\n \\n \\n \\n Main menu \\n move to sidebar \\n hide \\n \\n \\n \\n\\t\\tNavigation\\n\\t \\n \\n \\n Main page \\n Contents \\n Current events \\n Random article \\n About Wikipedia \\n Contact us \\n \\n \\n \\n \\n \\n\\t\\tContribute\\n\\t \\n \\n \\n Help \\n Learn to edit \\n Community portal \\n Recent changes \\n Upload file \\n Special pages \\n \\n \\n \\n \\n \\n \\n \\n \\n \\n \\n \\n \\n \\n \\n \\n \\n \\n \\n \\n Search \\n \\n \\n \\n \\n \\n \\n \\n \\n \\n \\n \\n Search \\n \\n \\n \\n \\n \\n \\n \\n \\n \\n \\n \\n \\n \\n \\n \\n \\n \\n \\n \\n \\n \\n \\n Appearance \\n \\n \\n \\n \\n \\n \\n \\n \\n \\n \\n \\n \\n \\n \\n \\n \\n \\n Donate \\n \\n \\n Create account \\n \\n \\n Log in \\n \\n \\n \\n \\n \\n \\n \\n \\n Personal tools \\n \\n \\n \\n \\n \\n Donate \\n   Create account \\n   Log in \\n \\n \\n \\n \\n \\n\\t\\tPages for logged out editors  learn more \\n \\n \\n \\n Contributions \\n Talk \\n \\n \\n \\n \\n \\n \\n \\n \\n \\n \\n \\n \\n  CentralNotice'),\n",
       " Document(metadata={'Header 2': 'Contents'}, page_content=\"Contents \\n move to sidebar \\n hide \\n \\n \\n \\n \\n (Top) \\n \\n \\n \\n \\n \\n 1 \\n Background \\n \\n \\n \\n \\n Toggle Background subsection \\n \\n \\n \\n \\n \\n 1.1 \\n Host selection \\n \\n \\n \\n \\n \\n \\n \\n \\n 1.2 \\n COVID-19 pandemic \\n \\n \\n \\n \\n \\n \\n \\n \\n 1.3 \\n Format \\n \\n \\n \\n \\n \\n \\n \\n \\n 1.4 \\n Pakistan's participation \\n \\n \\n \\n \\n \\n \\n \\n \\n 1.5 \\n Prize money \\n \\n \\n \\n \\n \\n \\n \\n \\n 1.6 \\n Marketing \\n \\n \\n \\n \\n \\n \\n \\n \\n \\n \\n 2 \\n Qualification \\n \\n \\n \\n \\n \\n \\n \\n \\n 3 \\n Venues \\n \\n \\n \\n \\n \\n \\n \\n \\n 4 \\n Squads \\n \\n \\n \\n \\n \\n \\n \\n \\n 5 \\n Match officials \\n \\n \\n \\n \\n \\n \\n \\n \\n 6 \\n Warm-up matches \\n \\n \\n \\n \\n \\n \\n \\n \\n 7 \\n Group stage \\n \\n \\n \\n \\n Toggle Group stage subsection \\n \\n \\n \\n \\n \\n 7.1 \\n Points table \\n \\n \\n \\n \\n \\n \\n \\n \\n 7.2 \\n Results \\n \\n \\n \\n \\n \\n \\n \\n \\n \\n \\n 8 \\n Knockout stage \\n \\n \\n \\n \\n Toggle Knockout stage subsection \\n \\n \\n \\n \\n \\n 8.1 \\n Semi-finals \\n \\n \\n \\n \\n \\n \\n \\n \\n 8.2 \\n Final \\n \\n \\n \\n \\n \\n \\n \\n \\n \\n \\n 9 \\n Statistics \\n \\n \\n \\n \\n Toggle Statistics subsection \\n \\n \\n \\n \\n \\n 9.1 \\n Most runs \\n \\n \\n \\n \\n \\n \\n \\n \\n 9.2 \\n Most wickets \\n \\n \\n \\n \\n \\n \\n \\n \\n 9.3 \\n Team of the tournament \\n \\n \\n \\n \\n \\n \\n \\n \\n \\n \\n 10 \\n Broadcasting \\n \\n \\n \\n \\n \\n \\n \\n \\n 11 \\n See also \\n \\n \\n \\n \\n \\n \\n \\n \\n 12 \\n References \\n \\n \\n \\n \\n \\n \\n \\n \\n 13 \\n External links \\n \\n \\n \\n \\n \\n \\n \\n \\n \\n \\n \\n \\n \\n \\n \\n \\n \\n \\n Toggle the table of contents\"),\n",
       " Document(metadata={'Header 1': '2023 Cricket World Cup'}, page_content=\"2023 Cricket World Cup \\n \\n \\n \\n 34 languages \\n \\n \\n \\n \\n Afrikaans \\n العربية \\n অসমীয়া \\n বাংলা \\n Deutsch \\n Español \\n Français \\n ગુજરાતી \\n हिन्दी \\n Bahasa Indonesia \\n Italiano \\n ಕನ್ನಡ \\n कॉशुर / کٲشُر \\n മലയാളം \\n मराठी \\n مصرى \\n Nederlands \\n नेपाली \\n 日本語 \\n Oʻzbekcha / ўзбекча \\n ਪੰਜਾਬੀ \\n پنجابی \\n Português \\n Русский \\n ᱥᱟᱱᱛᱟᱲᱤ \\n සිංහල \\n Simple English \\n سنڌي \\n தமிழ் \\n తెలుగు \\n Українська \\n اردو \\n 中文 \\n ꠍꠤꠟꠐꠤ \\n \\n Edit links \\n \\n \\n \\n \\n \\n \\n \\n \\n \\n \\n \\n Article \\n Talk \\n \\n \\n \\n \\n \\n English \\n \\n \\n \\n \\n \\n \\n \\n \\n \\n \\n \\n \\n \\n \\n \\n \\n \\n Read \\n View source \\n View history \\n \\n \\n \\n \\n \\n \\n \\n Tools \\n \\n \\n \\n \\n \\n Tools \\n move to sidebar \\n hide \\n \\n \\n \\n\\t\\tActions\\n\\t \\n \\n \\n Read \\n View source \\n View history \\n \\n \\n \\n \\n \\n\\t\\tGeneral\\n\\t \\n \\n \\n What links here \\n Related changes \\n Upload file \\n Permanent link \\n Page information \\n Cite this page \\n Get shortened URL \\n Download QR code \\n \\n \\n \\n \\n \\n\\t\\tPrint/export\\n\\t \\n \\n \\n Download as PDF \\n Printable version \\n \\n \\n \\n \\n \\n\\t\\tIn other projects\\n\\t \\n \\n \\n Wikimedia Commons \\n Wikidata item \\n \\n \\n \\n \\n \\n \\n \\n \\n \\n \\n \\n \\n \\n \\n \\n \\n \\n \\n \\n \\n \\n Appearance \\n move to sidebar \\n hide \\n \\n \\n \\n \\n \\n \\n \\n \\n \\n \\n \\n From Wikipedia, the free encyclopedia \\n \\n \\n \\n \\n 13th edition of the ICC Men's Cricket World Cup\"),\n",
       " Document(metadata={'P': ''}, page_content='Cricket tournament \\n .mw-parser-output .infobox-subbox{padding:0;border:none;margin:-3px;width:auto;min-width:100%;font-size:100%;clear:none;float:none;background-color:transparent}.mw-parser-output .infobox-3cols-child{margin:auto}.mw-parser-output .infobox .navbar{font-size:100%}@media screen{html.skin-theme-clientpref-night .mw-parser-output .infobox-full-data:not(.notheme)>div:not(.notheme)[style]{background:#1f1f23!important;color:#f8f9fa}}@media screen and (prefers-color-scheme:dark){html.skin-theme-clientpref-os .mw-parser-output .infobox-full-data:not(.notheme) div:not(.notheme){background:#1f1f23!important;color:#f8f9fa}}@media(min-width:640px){body.skin--responsive .mw-parser-output .infobox-table{display:table!important}body.skin--responsive .mw-parser-output .infobox-table>caption{display:table-caption!important}body.skin--responsive .mw-parser-output .infobox-table>tbody{display:table-row-group}body.skin--responsive .mw-parser-output .infobox-table tr{display:table-row!important}body.skin--responsive .mw-parser-output .infobox-table th,body.skin--responsive .mw-parser-output .infobox-table td{padding-left:inherit;padding-right:inherit}}'),\n",
       " Document(metadata={'Table': \"2023 ICC Men's Cricket World Cup\\n\\n\\n\\nDates\\n5 October – 19 November 2023\\n\\n\\nAdministrator(s)\\nInternational Cricket Council\\n\\n\\nCricket format\\n\\nOne Day International (ODI)\\n\\n\\nTournament format(s)\\n\\nRound-robin and knockout\\n\\n\\n\\nHost(s)\\nIndia\\n\\n\\nChampions\\n\\n\\xa0Australia (6th title)\\n\\n\\nRunners-up\\n\\n\\xa0India\\n\\n\\n\\nParticipants\\n10\\n\\n\\nMatches\\n48\\n\\n\\nAttendance\\n1,250,307 (26,048 per match)\\n\\n\\nPlayer of the series\\n\\n Virat Kohli\\n\\n\\n\\nMost runs\\n\\n Virat Kohli (765)\\n\\n\\nMost wickets\\n\\n Mohammed Shami (24)\\n\\n\\nOfficial website\\ncricketworldcup.com\\n\\n\\n← 2019\\n\\n\\n2027 →\"}, page_content=\"2023 ICC Men's Cricket World Cup \\n \\n \\n \\n Dates \\n 5 October – 19 November 2023 \\n \\n \\n Administrator(s) \\n International Cricket Council \\n \\n \\n Cricket format \\n \\n One Day International  (ODI) \\n \\n \\n Tournament format(s) \\n \\n Round-robin  and  knockout \\n \\n \\n \\n Host(s) \\n India \\n \\n \\n Champions \\n \\n \\xa0 Australia  (6th title) \\n \\n \\n Runners-up \\n \\n \\xa0 India \\n \\n \\n \\n Participants \\n 10 \\n \\n \\n Matches \\n 48 \\n \\n \\n Attendance \\n 1,250,307 (26,048 per match) \\n \\n \\n Player of the series \\n \\n   Virat Kohli \\n \\n \\n \\n Most runs \\n \\n   Virat Kohli  (765) \\n \\n \\n Most wickets \\n \\n   Mohammed Shami  (24) \\n \\n \\n Official website \\n cricketworldcup.com \\n \\n \\n ←  2019 \\n \\n \\n 2027  →\"),\n",
       " Document(metadata={'P': \"The 2023 ICC Men's Cricket World Cup was the 13th edition of the ICC Men's Cricket World Cup, a quadrennial One Day International (ODI) cricket tournament organized by the International Cricket Council (ICC). It was hosted from 5 October to 19 November 2023 across ten venues in India. This was the fourth World Cup held in India, but the first where India was the sole host.\"}, page_content=\"The  2023 ICC Men's Cricket World Cup  was the 13th edition of the  ICC Men's Cricket World Cup , a quadrennial  One Day International  (ODI)  cricket  tournament organized by the  International Cricket Council  (ICC). It was hosted from 5 October to 19 November 2023 across ten venues in  India . This was the fourth World Cup held in India, but the first where India was the sole host.\"),\n",
       " Document(metadata={'P': 'The tournament was contested by ten national teams, maintaining the same format used in 2019. After six weeks of round-robin matches, India, South Africa, Australia, and New Zealand finished as the top four and qualified for the knockout stage. In the knockout stage, India and Australia beat New Zealand and South Africa, respectively, to advance to the final, played on 19 November at the Narendra Modi Stadium in Ahmedabad. Australia won the final by six wickets, winning their sixth Cricket World Cup title.'}, page_content='The tournament was contested by ten national teams, maintaining the same format used in  2019 . After six weeks of round-robin matches,  India ,  South Africa ,  Australia , and  New Zealand  finished as the top four and qualified for the knockout stage. In the knockout stage, India and Australia beat New Zealand and South Africa, respectively, to advance to the final, played on 19 November at the  Narendra Modi Stadium  in  Ahmedabad . Australia won the final by six wickets, winning their sixth Cricket World Cup title.'),\n",
       " Document(metadata={'P': 'A total of 1,250,307 spectators attended the matches, the highest number in any Cricket World Cup to date.[1] The tournament final set viewership records in India, drawing 518 million viewers, with a peak of 57 million streaming viewers.'}, page_content='A total of 1,250,307 spectators attended the matches, the highest number in any Cricket World Cup to date. [ 1 ]  The tournament final set viewership records in India, drawing 518 million viewers, with a peak of 57 million streaming viewers.'),\n",
       " Document(metadata={'Header 2': 'Background'}, page_content='Background \\n Host selection'),\n",
       " Document(metadata={'P': 'On 11 December 2017, India was announced by the ICC as hosts of the 2023 Cricket World Cup; while India had served as a co-host during three previous tournaments (most recently in 2011, which it co-hosted with Sri Lanka and Bangladesh), it would mark the first Cricket World Cup to be hosted solely by India.[2]'}, page_content='On 11 December 2017, India was announced by the ICC as hosts of the 2023 Cricket World Cup; while India had served as a co-host during three previous tournaments (most recently in  2011 , which it co-hosted with Sri Lanka and Bangladesh), it would mark the first Cricket World Cup to be hosted solely by India. [ 2 ] \\n \\n COVID-19 pandemic \\n .mw-parser-output .hatnote{font-style:italic}.mw-parser-output div.hatnote{padding-left:1.6em;margin-bottom:0.5em}.mw-parser-output .hatnote i{font-style:normal}.mw-parser-output .hatnote+link+.hatnote{margin-top:-0.5em}@media print{body.ns-0 .mw-parser-output .hatnote{display:none!important}} \\n Further information:  Impact of the COVID-19 pandemic on cricket')]"
      ]
     },
     "execution_count": 17,
     "metadata": {},
     "output_type": "execute_result"
    }
   ],
   "source": [
    "split_content[:10]"
   ]
  },
  {
   "cell_type": "markdown",
   "metadata": {},
   "source": [
    "We can see the metatadata indicating the section tag of the chunk.\n",
    "So how many chunks were created?"
   ]
  },
  {
   "cell_type": "code",
   "execution_count": 18,
   "metadata": {},
   "outputs": [
    {
     "data": {
      "text/plain": [
       "230"
      ]
     },
     "execution_count": 18,
     "metadata": {},
     "output_type": "execute_result"
    }
   ],
   "source": [
    "len(split_content)"
   ]
  },
  {
   "cell_type": "markdown",
   "metadata": {},
   "source": [
    "Let's see how many chunks for each of the sections"
   ]
  },
  {
   "cell_type": "code",
   "execution_count": 19,
   "metadata": {},
   "outputs": [
    {
     "name": "stdout",
     "output_type": "stream",
     "text": [
      "Counter({'Table': 188, 'P': 26, 'Header 2': 14, 'Header 1': 2})\n"
     ]
    }
   ],
   "source": [
    "from collections import Counter\n",
    "\n",
    "class_counter = Counter()\n",
    "\n",
    "for doc in split_content:\n",
    "    document_class = next(iter(doc.metadata.keys()))\n",
    "    class_counter[document_class] += 1\n",
    "\n",
    "print(class_counter)"
   ]
  },
  {
   "cell_type": "markdown",
   "metadata": {},
   "source": [
    "Now, let us look at the lengths of these chunks"
   ]
  },
  {
   "cell_type": "code",
   "execution_count": 20,
   "metadata": {},
   "outputs": [
    {
     "data": {
      "image/png": "[encoded data removed]",
      "text/plain": [
       "<Figure size 640x480 with 1 Axes>"
      ]
     },
     "metadata": {},
     "output_type": "display_data"
    },
    {
     "name": "stdout",
     "output_type": "stream",
     "text": [
      "The median chunk lenght is : 71.0\n",
      "The average chunk lenght is : 297.72\n",
      "The minimum chunk lenght is : 12\n",
      "The max chunk lenght is : 13740\n",
      "The 75th percentile chunk length is : 198.5\n",
      "The 25th percentile chunk length is : 37.0\n"
     ]
    }
   ],
   "source": [
    "\n",
    "data = [len(doc.page_content) for doc in split_content]\n",
    "\n",
    "plt.boxplot(data)  \n",
    "plt.title('Box Plot of chunk lengths')\n",
    "plt.xlabel('Chunk Lengths')  \n",
    "plt.ylabel('Values')  \n",
    "\n",
    "plt.show()\n",
    "\n",
    "print(f\"The median chunk lenght is : {round(np.median(data),2)}\")\n",
    "print(f\"The average chunk lenght is : {round(np.mean(data),2)}\")\n",
    "print(f\"The minimum chunk lenght is : {round(np.min(data),2)}\")\n",
    "print(f\"The max chunk lenght is : {round(np.max(data),2)}\")\n",
    "print(f\"The 75th percentile chunk length is : {round(np.percentile(data, 75),2)}\")\n",
    "print(f\"The 25th percentile chunk length is : {round(np.percentile(data, 25),2)}\")"
   ]
  },
  {
   "cell_type": "markdown",
   "metadata": {},
   "source": [
    "Some of the chunk lengths are longer than 1000. Let's try to control that."
   ]
  },
  {
   "cell_type": "code",
   "execution_count": 21,
   "metadata": {},
   "outputs": [
    {
     "name": "stdout",
     "output_type": "stream",
     "text": [
      "The number of chunks created : 275\n"
     ]
    }
   ],
   "source": [
    "from langchain.text_splitter import RecursiveCharacterTextSplitter #Another Character Based Text Splitter from LangChain\n",
    "\n",
    "text_splitter = RecursiveCharacterTextSplitter(\n",
    "separators=[\"\\n\\n\",\"\\n\",\".\"], #The character that should be used to split. More than one can be given to try recursively.\n",
    "chunk_size=1000, #Number of characters in each chunk \n",
    "chunk_overlap=100, #Number of overlapping characters between chunks\n",
    ")\n",
    "\n",
    "final_chunks=text_splitter.split_documents(split_content)\n",
    "\n",
    "#Show the number of chunks created\n",
    "print(f\"The number of chunks created : {len(final_chunks)}\")"
   ]
  },
  {
   "cell_type": "code",
   "execution_count": 22,
   "metadata": {},
   "outputs": [
    {
     "data": {
      "image/png": "[encoded data removed]",
      "text/plain": [
       "<Figure size 640x480 with 1 Axes>"
      ]
     },
     "metadata": {},
     "output_type": "display_data"
    },
    {
     "name": "stdout",
     "output_type": "stream",
     "text": [
      "The median chunk lenght is : 75.0\n",
      "The average chunk lenght is : 254.96\n",
      "The minimum chunk lenght is : 3\n",
      "The max chunk lenght is : 1000\n",
      "The 75th percentile chunk length is : 328.5\n",
      "The 25th percentile chunk length is : 47.5\n"
     ]
    }
   ],
   "source": [
    "\n",
    "data = [len(doc.page_content) for doc in final_chunks]\n",
    "\n",
    "plt.boxplot(data)  \n",
    "plt.title('Box Plot of chunk lengths')  # Title\n",
    "plt.xlabel('Chunk Lengths')  # Label for x-axis\n",
    "plt.ylabel('Values')  # Label for y-axis\n",
    "\n",
    "plt.show()\n",
    "\n",
    "print(f\"The median chunk lenght is : {round(np.median(data),2)}\")\n",
    "print(f\"The average chunk lenght is : {round(np.mean(data),2)}\")\n",
    "print(f\"The minimum chunk lenght is : {round(np.min(data),2)}\")\n",
    "print(f\"The max chunk lenght is : {round(np.max(data),2)}\")\n",
    "print(f\"The 75th percentile chunk length is : {round(np.percentile(data, 75),2)}\")\n",
    "print(f\"The 25th percentile chunk length is : {round(np.percentile(data, 25),2)}\")"
   ]
  },
  {
   "cell_type": "markdown",
   "metadata": {},
   "source": [
    "<img src=\"../../Assets/Images/3.4.png\">"
   ]
  },
  {
   "cell_type": "markdown",
   "metadata": {},
   "source": [
    "#### __Congratulations__\n",
    "\n",
    "With this, you have successfully completed the chunking of the data. We move now to the next step of creating __Embeddings__\n",
    "\n",
    "But before that, check out the splitters available in LangChain\n",
    "\n",
    "__Text Splitters__  - [https://python.langchain.com/docs/concepts/text_splitters/]"
   ]
  },
  {
   "cell_type": "markdown",
   "metadata": {},
   "source": [
    "## Data Conversion (Embeddings)"
   ]
  },
  {
   "cell_type": "markdown",
   "metadata": {},
   "source": [
    "Computers, at the very core, do mathematical calculations. Mathematical calculations are done on numbers. Therefore, for a computer to process any kind of non-numeric data like text or image, it must be first converted into a numerical form. \n",
    "\n",
    "Embeddings is a design pattern that is extremely helpful in the fields of data science, machine learning and artificial intelligence. Embeddings are vector representations of data. As a general definition, embeddings are data that has been transformed into n-dimensional matrices. A word embedding is a vector representation of words. "
   ]
  },
  {
   "attachments": {
    "3.6.png": {
     "image/png": "[encoded data removed]"
    }
   },
   "cell_type": "markdown",
   "metadata": {},
   "source": [
    "![3.6.png](attachment:3.6.png)"
   ]
  },
  {
   "cell_type": "markdown",
   "metadata": {},
   "source": [
    "#### __Open Source Embeddings from HuggingFace__\n",
    "\n",
    "Let's begin with an opensource embeddings from HuggingFace!"
   ]
  },
  {
   "cell_type": "code",
   "execution_count": 23,
   "metadata": {},
   "outputs": [],
   "source": [
    "from langchain_huggingface import HuggingFaceEmbeddings\n",
    "\n",
    "hfembeddings = HuggingFaceEmbeddings(model_name=\"sentence-transformers/all-mpnet-base-v2\")\n",
    "\n",
    "hf_embeddings = hfembeddings.embed_documents([chunk.page_content for chunk in final_chunks])\n"
   ]
  },
  {
   "cell_type": "code",
   "execution_count": 24,
   "metadata": {},
   "outputs": [
    {
     "name": "stdout",
     "output_type": "stream",
     "text": [
      "The lenght of the embeddings vector is 768\n",
      "The embeddings object is an array of 275 X 768\n"
     ]
    }
   ],
   "source": [
    "print(f\"The lenght of the embeddings vector is {len(hf_embeddings[0])}\")\n",
    "print(f\"The embeddings object is an array of {len(hf_embeddings)} X {len(hf_embeddings[0])}\")"
   ]
  },
  {
   "cell_type": "markdown",
   "metadata": {},
   "source": [
    "#### __OpenAI Embeddings__\n",
    "\n",
    "OpenAI, the company behind ChatGPT and GPT series of Large Language Models also provide three Embeddings Models. \n",
    "\n",
    "1.\ttext-embedding-ada-002 was released in December 2022. It has a dimension of 1536 meaning that it converts text into a vector of 1536 dimensions.\n",
    "2.\ttext-embedding-3-small is the latest small embedding model of 1536 dimensions released in January 2024. The flexibility it provides over ada-002 model is that users can adjust the size of the dimensions according to their needs.\n",
    "3.\ttext-embedding-3-large is a large embedding model of 3072 dimensions released together with the text-embedding-3-small model. It is the best performing model released by OpenAI yet.\n",
    "\n",
    "\n",
    "OpenAI models are proprietary and can be accessed using the OpenAI API and are priced based on the number of input tokens for which embeddings are desired. \n"
   ]
  },
  {
   "cell_type": "markdown",
   "metadata": {},
   "source": [
    "Note: You will need an __OpenAI API Key__ which can be obtained from [OpenAI](https://platform.openai.com/api-keys)"
   ]
  },
  {
   "cell_type": "markdown",
   "metadata": {},
   "source": [
    "To initialize the __OpenAI client__, we need to pass the api key. There are many ways of doing it. \n",
    "\n",
    "####  [Option 1] Creating a .env file for storing the API key and using it # Recommended\n",
    "\n",
    "Install the __dotenv__ library\n",
    "\n",
    "_The dotenv library is a popular tool used in various programming languages, including Python and Node.js, to manage environment variables in development and deployment environments. It allows developers to load environment variables from a .env file into their application's environment._\n",
    "\n",
    "- Create a file named .env in the root directory of their project.\n",
    "- Inside the .env file, then define environment variables in the format VARIABLE_NAME=value. \n",
    "\n",
    "e.g.\n",
    "\n",
    "OPENAI_API_KEY=YOUR API KEY"
   ]
  },
  {
   "cell_type": "code",
   "execution_count": 25,
   "metadata": {},
   "outputs": [
    {
     "name": "stdout",
     "output_type": "stream",
     "text": [
      "Success: .env file found with some environment variables\n"
     ]
    }
   ],
   "source": [
    "from dotenv import load_dotenv\n",
    "import os\n",
    "\n",
    "if load_dotenv():\n",
    "    print(\"Success: .env file found with some environment variables\")\n",
    "else:\n",
    "    print(\"Caution: No environment variables found. Please create .env file in the root directory or add environment variables in the .env file\")"
   ]
  },
  {
   "cell_type": "markdown",
   "metadata": {},
   "source": [
    "#### [Option 2] Alternatively, you can set the API key in code. \n",
    "However, this is not recommended since it can leave your key exposed for potential misuse. Uncomment the cell below to use this method."
   ]
  },
  {
   "cell_type": "code",
   "execution_count": 26,
   "metadata": {},
   "outputs": [],
   "source": [
    "# import os\n",
    "# os.environ[\"OPENAI_API_KEY\"] = \"sk-proj-******\" #Imp : Replace with an OpenAI API Key"
   ]
  },
  {
   "cell_type": "markdown",
   "metadata": {},
   "source": [
    "We can also test if the key is valid or not"
   ]
  },
  {
   "cell_type": "code",
   "execution_count": 27,
   "metadata": {},
   "outputs": [
    {
     "name": "stdout",
     "output_type": "stream",
     "text": [
      "OPENAI_API_KEY is set and is valid\n"
     ]
    }
   ],
   "source": [
    "import openai\n",
    "\n",
    "api_key=os.environ[\"OPENAI_API_KEY\"]\n",
    "\n",
    "from openai import OpenAI\n",
    "\n",
    "client = OpenAI()\n",
    "\n",
    "\n",
    "if api_key:\n",
    "    try:\n",
    "        client.models.list()\n",
    "        print(\"OPENAI_API_KEY is set and is valid\")\n",
    "    except openai.APIError as e:\n",
    "        print(f\"OpenAI API returned an API Error: {e}\")\n",
    "        pass\n",
    "    except openai.APIConnectionError as e:\n",
    "        print(f\"Failed to connect to OpenAI API: {e}\")\n",
    "        pass\n",
    "    except openai.RateLimitError as e:\n",
    "        print(f\"OpenAI API request exceeded rate limit: {e}\")\n",
    "        pass\n",
    "\n",
    "else:\n",
    "    print(\"Please set you OpenAI API key as an environment variable OPENAI_API_KEY\")\n"
   ]
  },
  {
   "cell_type": "markdown",
   "metadata": {},
   "source": [
    "Now we will use the __OpenAIEmbeddings__ library from langchain "
   ]
  },
  {
   "cell_type": "code",
   "execution_count": 28,
   "metadata": {},
   "outputs": [],
   "source": [
    "# Import OpenAIEmbeddings from the library\n",
    "from langchain_openai import OpenAIEmbeddings\n",
    "\n",
    "\n",
    "os.environ[\"TOKENIZERS_PARALLELISM\"]=\"false\"\n",
    "\n",
    "# Instantiate the embeddings object\n",
    "embeddings = OpenAIEmbeddings(model=\"text-embedding-3-small\")\n",
    "\n",
    "# Create embeddings for all chunks\n",
    "openai_embeddings = embeddings.embed_documents([chunk.page_content for chunk in final_chunks])\n"
   ]
  },
  {
   "cell_type": "code",
   "execution_count": 29,
   "metadata": {},
   "outputs": [
    {
     "name": "stdout",
     "output_type": "stream",
     "text": [
      "The lenght of the embeddings vector is 1536\n",
      "The embeddings object is an array of 275 X 1536\n"
     ]
    }
   ],
   "source": [
    "print(f\"The lenght of the embeddings vector is {len(openai_embeddings[0])}\")\n",
    "print(f\"The embeddings object is an array of {len(openai_embeddings)} X {len(openai_embeddings[0])}\")\n"
   ]
  },
  {
   "cell_type": "markdown",
   "metadata": {},
   "source": [
    "#### __Congratulations__\n",
    "\n",
    "With this, we have successfully completed the creation of embeddings. We move now to the next step of storing the embeddings in a  __Vector Store__\n",
    "\n",
    "Read more about [Embedding Models Here](https://python.langchain.com/docs/integrations/text_embedding/)"
   ]
  },
  {
   "cell_type": "markdown",
   "metadata": {},
   "source": [
    "## Storage (Vector Databases)"
   ]
  },
  {
   "cell_type": "markdown",
   "metadata": {},
   "source": [
    "The data has been loaded, split, and converted into embeddings. For us to use this information repeatedly, we need to store it in memory so that it can be accessed on demand. Vector Databases are built to handle high dimensional vectors. These databases specialize in indexing and storing vector embeddings for fast semantic search and retrieval. "
   ]
  },
  {
   "cell_type": "markdown",
   "metadata": {},
   "source": [
    "#### Facebook AI Similarity Search (FAISS)"
   ]
  },
  {
   "cell_type": "code",
   "execution_count": 30,
   "metadata": {},
   "outputs": [
    {
     "data": {
      "text/plain": [
       "['2cc622d1-02e8-44aa-8476-06e1058055f5',\n",
       " '51bdfd38-bb64-47d3-8ad5-192a7e14896b',\n",
       " '6991abe6-d43c-4b60-ac5a-37f5da3bf233',\n",
       " '6c7b6259-2227-4038-bea4-37541a773899',\n",
       " '01264110-ed9b-43a9-8f7e-459637ec1739',\n",
       " '2c4a1175-4535-4cec-ab9f-9edf531792e4',\n",
       " '63f83f79-947e-48f3-90a4-6843122fa5fc',\n",
       " 'ceedcde7-c618-4622-9129-6e21ca41e4b2',\n",
       " 'a066cce1-45db-43de-9e7b-126c8294254c',\n",
       " 'd237117f-79ca-4345-b10d-023c75785695',\n",
       " '898967d9-06cc-43c8-b914-6c8148281dca',\n",
       " '9d9eecde-0b46-4d4c-b2ce-86b6e062c430',\n",
       " 'e1fad4bc-94db-4015-b50e-0eb52a380138',\n",
       " '363f4482-12ad-4317-9bd7-f38b10d4f970',\n",
       " 'f03d417f-5148-4e95-9b18-4d2fbb24288d',\n",
       " 'bb3c60b0-9067-4481-b97a-c63f3d59033f',\n",
       " 'f9896749-60fb-47a2-a479-013763b97e97',\n",
       " 'a3a756d8-e9bc-4c21-b58b-abab5c95b6fd',\n",
       " 'e370f23f-44f2-4643-bdf3-7bd9cc9d34ca',\n",
       " 'df19771c-cf9b-4749-a0f8-8807d10d8433',\n",
       " 'bbbaf718-1149-4a3c-a1b9-093df670a140',\n",
       " 'ffff3a34-e0fd-4d83-b7ad-f90510d9b10f',\n",
       " 'eb2d4b4d-8cb5-4499-981c-b89e3dc8f697',\n",
       " '90182803-2df8-484e-8025-46adf5d7c0f8',\n",
       " '27b36f93-8371-4439-8f60-3072e458cf49',\n",
       " 'bae3f155-cd4a-4e47-9ef9-55a00f895c3b',\n",
       " '858ea1de-29e4-42bc-bc73-8b99e93c6da3',\n",
       " 'fd13b8f9-b7fd-489b-a7d9-c72b818dc9ce',\n",
       " '8064a34c-9ffb-487c-b1f9-79689bf1d83c',\n",
       " 'bd23bfcb-f3b4-4179-966d-460d2cbf92d9',\n",
       " '39454d42-fe41-430e-b8b8-fc3d1c5645a6',\n",
       " '3655acb5-7cab-4a00-9d68-7f51a45426b8',\n",
       " '381760ac-05ae-41af-ade7-ef79849e4f99',\n",
       " '53331824-2f4e-4b83-9fc2-d9887e0cb81f',\n",
       " '2f9cd3b7-246f-4e71-bf4a-2214b1502cf1',\n",
       " '125e2473-8cd7-4ff6-91f6-3e138365d7c1',\n",
       " '0aa84f42-37b9-41be-a307-71e89300473e',\n",
       " 'f69bb641-932b-4259-b04d-bb41ca4a20ec',\n",
       " '7e776234-cabd-4302-a930-74cf5334146b',\n",
       " 'a16880a0-4367-4636-bcb9-07155a0f3d31',\n",
       " 'f5d9f8db-e581-4e8d-a7e7-50f7b26a37e2',\n",
       " '118130c8-db1f-41c1-b580-911365bcca05',\n",
       " '6f7730e3-9667-41c3-88a3-c05d93f027e3',\n",
       " '608bab29-27d9-4c5b-8e5a-1846bbe7c414',\n",
       " '98d1c9a1-34c8-498a-a7b7-d07886d81342',\n",
       " '4386d3a0-8590-4a5a-8eaa-402a2a001cb1',\n",
       " 'cba8d1ca-c794-4fc4-9931-3179ad2b3da3',\n",
       " '6dcc3780-19d1-49d5-93a2-9dceb6511aca',\n",
       " '0e78c1cf-d3ed-4679-bb6a-4a516e5f2938',\n",
       " '00cd73f1-f26d-4de5-9b47-71da7d16483c',\n",
       " '7099413a-aade-4b81-b056-b468a1b0a494',\n",
       " 'f82373bd-9382-4c29-99a5-b56bcabacd1a',\n",
       " '52c0aaf3-59b9-4539-a2d4-210027a20fcf',\n",
       " 'de65429a-4c98-4520-b053-4cd15145681d',\n",
       " 'abadd6dc-7940-4a4a-b25b-759bbbe20416',\n",
       " 'd16e7adf-d448-4326-8bbb-3455fb25ff9c',\n",
       " '283f9e51-c08e-47d4-926e-8650c2d5f23a',\n",
       " '0cf59fa4-16df-4048-903b-682e4427f58b',\n",
       " '42a443ba-9a3e-4c9f-8ecb-d84522434d6e',\n",
       " 'bbe914c6-f2b7-41d2-b4b6-3aaba48e0422',\n",
       " '5f46b064-5a6d-4087-806d-fe34301c3ba6',\n",
       " '2f4225ef-8917-428f-9785-3e204ec70d2a',\n",
       " '9872d2de-f10d-467d-98ac-9c9caf0ed4b3',\n",
       " 'f0ea42dd-2f6c-43ea-9b10-f4a013ccadc7',\n",
       " '2894b115-ebdb-4e89-b7a3-f2fedff5dc6f',\n",
       " '92de3681-48f5-4f11-ba6d-e1b29f84c8cb',\n",
       " '8f8f461f-e642-4b95-917e-db164bf69d6f',\n",
       " '0cfa68de-08c8-4f86-a610-f0ea347faf41',\n",
       " '87a9c5dd-85d9-4d77-ab14-eeafdf6ae1ca',\n",
       " 'f31acdfc-c4d2-45b0-9065-bca0276e03d4',\n",
       " 'aa559923-3ba7-44a5-9270-a19ef7fd1b5a',\n",
       " '436bbe28-3957-4a42-a568-97568e0b3121',\n",
       " '4bba4a54-f6cd-42db-a53b-cb0e684f7c04',\n",
       " 'ec26d226-74c1-4be3-8e64-e7369c4c5c10',\n",
       " '0e7ddbd5-57c3-442b-af76-02e1e511bb4e',\n",
       " '2f74643f-0a81-4cf3-a544-8d872e4e8012',\n",
       " '22610bb1-4a76-4c87-b458-c2529024d97e',\n",
       " '0dad34c0-6c4d-413b-8057-e71702380710',\n",
       " 'ce502560-1c4a-4003-bd0d-4ec592c3b7ea',\n",
       " '05515d30-7d78-4609-a1ac-e32c23859da4',\n",
       " 'aeef3073-6966-43ca-a33d-b250e140859c',\n",
       " 'a9f8852d-839f-4403-8a3e-fa96fb3a3f1f',\n",
       " 'd2272354-0ddf-4242-b53f-975669f67aba',\n",
       " '0c0c7bee-1d13-4c9a-948a-4f1ed31c29bc',\n",
       " '50c4cee9-ce45-4fcc-8c31-5abdda46ce9d',\n",
       " '14497362-a3c4-40dd-89fc-c20f86e60705',\n",
       " 'b76c0d16-75b2-406f-ad78-d7f3b8b71e3a',\n",
       " '63b58ba8-75d2-4acb-9a91-5bfac6c2b9f9',\n",
       " '8eb5d34d-e7a6-4869-bf32-1131b7a0a7c1',\n",
       " 'd3fa17e8-5987-4248-993c-b66504b96194',\n",
       " '6a493db5-336f-4d9e-8cb3-b5775188e70d',\n",
       " '5564f21e-91c1-4067-b22e-47416a1d5128',\n",
       " '7e9140fe-adc5-40a6-bdf4-0c09bb253825',\n",
       " '5de9fe5d-f846-4d0c-a7b2-9151b436cb72',\n",
       " 'f8754892-c68d-4aea-907d-d739161965e1',\n",
       " '4db079b0-e425-4c67-acbc-ade556f175b3',\n",
       " '366c8ed6-011c-4867-8b10-27c1136f8a4a',\n",
       " '354cf59f-07d6-4901-a649-695c8a24de30',\n",
       " '0646119c-a676-47b6-ad34-b1aae05daa20',\n",
       " '90e2ed57-389d-4de5-b5cc-ed001a990b77',\n",
       " 'c75948f6-6eae-4377-b072-804ece6ce382',\n",
       " '8da1256a-c238-450b-967c-e00b3a6eaae4',\n",
       " '8378d4ce-d17d-4e76-84a6-be796da72349',\n",
       " 'c248d141-ab79-4358-9e49-0136dfc73b22',\n",
       " 'ca1f881f-a75b-4ec5-a079-4046fc04041a',\n",
       " 'fed3c4aa-aa10-4823-9fdb-ba4c96003abf',\n",
       " '8f896473-9e50-43cf-a6c3-7fe0fce944f2',\n",
       " 'dc263855-a357-4e89-8b2c-19411ff98c08',\n",
       " 'e65e8137-05d2-46e8-807a-b307bafdcd53',\n",
       " 'e0c208e7-e9f0-4829-82e8-c6db2a775dd6',\n",
       " 'ddedecf0-be85-49eb-aff7-c30e8b933c83',\n",
       " '545517a2-abf8-47de-a28f-789f3a70945e',\n",
       " '03a7b0a3-9d1f-4791-a799-79e85da169b1',\n",
       " '52879cb3-a1b0-4cd4-8a62-d785db6a2882',\n",
       " 'cbc1302c-48f9-4804-a4d9-3d052fc9e498',\n",
       " '4d1a9c0e-2fce-4e6d-a0cb-21e7d1ee03ce',\n",
       " '750771c9-5f14-4c58-aa05-7ccd89b9cfee',\n",
       " '0955ee9b-a772-4069-b9a8-62a9795a9016',\n",
       " '1abca219-f8aa-4b6d-80e7-2fd67aa9b035',\n",
       " '5f27395d-8751-4f1c-a9b4-1e8869c967c3',\n",
       " '3d181708-e81d-4c96-8fce-6fe8e6fb9828',\n",
       " '8e59f506-9413-4b4f-b108-0df6288879dd',\n",
       " '6c39a616-daae-41df-bc93-1f0bae25e5d5',\n",
       " '4c83d078-8e09-415b-a0f3-224c7a87f97b',\n",
       " '9180534c-44a0-4004-b9b8-40cb199e2495',\n",
       " 'b71d13cd-f2f8-4096-b95e-c13cba2e2ddc',\n",
       " '305370f7-811e-4f11-b0b5-a8ef10a53c8f',\n",
       " 'c7124eaf-1089-46d4-8666-11ee53ffb884',\n",
       " '38925945-79bd-422f-a2cc-8384df284cc8',\n",
       " '163dd308-7cdf-4f02-a509-abe60e05cead',\n",
       " 'ff786e4b-52e7-4d0b-912d-fc430badb70a',\n",
       " '339b11dd-3ad4-4379-909c-ad95fc8d267d',\n",
       " '0f29118f-ffb0-4724-b519-916badab8dc0',\n",
       " 'ae21c0e4-fe58-40ea-bd03-8be6fe42ea61',\n",
       " '5b18c5da-c7a9-4629-a935-7ee294d79565',\n",
       " '4d312f92-83db-4da3-9b6a-8b36d5db1128',\n",
       " 'a747c59f-b44c-493a-836d-1960606d580f',\n",
       " 'd1aad530-6c17-40dd-9417-60dcc974bb25',\n",
       " '2477aeef-7241-42c5-a464-01ae7ccdb58f',\n",
       " 'd799a2bc-c5e6-40f3-8b9d-06b174dab60a',\n",
       " '54743fdb-e87f-4b2f-b386-b729c71dd332',\n",
       " '2c9a4357-031f-4b4c-aeb9-93445cf1f930',\n",
       " 'afaae017-f7e0-4373-a9dd-c63449d374a0',\n",
       " 'f729948d-c726-4a25-a122-91992876d3fc',\n",
       " 'f0040424-779a-4cba-883c-5d8a05573560',\n",
       " 'e4ee7c40-9960-4d92-98f7-922650f442c6',\n",
       " '9589baee-7db7-4f43-beb8-2b1a8341bd63',\n",
       " 'dce844dd-5f6c-4b17-b911-4dde20f0ec6e',\n",
       " '2d44e3dc-6ff6-4f05-b733-a7003f6a7ec6',\n",
       " '58bfb901-e9cb-4da9-8c5f-bc6d793bdee1',\n",
       " '758a312a-c0c6-48e0-87d4-fe80a7a9a0a7',\n",
       " '33ad4dfa-e827-4b5e-9f04-924e55688a38',\n",
       " '8419b905-520c-4481-87ce-88b2d33d7280',\n",
       " '9d8fdeae-a655-456b-bf00-06761a43713d',\n",
       " '94637717-7cb5-4a4f-ac53-4683e50a77b7',\n",
       " '74dbf0ba-de3d-44d3-bba8-33cacc5a6663',\n",
       " '858a7b4f-a594-445b-b0ff-c3a2c2e7c6ad',\n",
       " '01e079dc-9b8b-4d62-8f29-24c06201a61f',\n",
       " 'c9587a06-a460-4cb7-88b7-905ad8c70641',\n",
       " 'cf6de394-805c-4236-9f67-233ea9c7564e',\n",
       " '18c32e4e-bd84-421c-ad63-a43017024ec3',\n",
       " 'd868e990-d124-4f1b-b60a-c509a8c9524f',\n",
       " '4e9f1a96-950b-48d5-987d-bb4d2ed7609a',\n",
       " 'a426a2e2-660f-41f3-9dd2-9945836e8aa4',\n",
       " '09a6a1cf-c502-44ff-83f4-4436008c7bc5',\n",
       " '67c1e5e5-7a66-4d84-8c45-e3ee02574cd8',\n",
       " '84cd3428-f62f-4416-a9cf-5fb2b88ed7c9',\n",
       " '9d6cf640-9d63-41f5-882c-585cd9c6bc81',\n",
       " '4506d8d1-3246-4d0d-8f77-ea1fedc49fb5',\n",
       " '08b87bd2-aeac-4c59-accb-c1d72f0a1e24',\n",
       " 'fd6ff8c9-f32e-45b7-904d-359323bd726e',\n",
       " 'd65c69f2-9d3d-4f4f-bcde-52380305f936',\n",
       " '9a2e2ade-0e32-4f61-8b12-1228b6699af3',\n",
       " '07324d28-c8f5-4157-a33a-b4d6cf039284',\n",
       " 'a30491f3-b67f-4b93-90d7-461055d7ede2',\n",
       " '030c42e0-bbc1-47a2-92bc-fc7a9ae498d8',\n",
       " '3696085b-6a36-4c44-a206-351189df1c22',\n",
       " '6c80e1fd-3c4c-4a7a-a372-86f02fdfda51',\n",
       " 'eae49e7a-39aa-4726-9a50-68b71555b392',\n",
       " '86ca2fb5-1369-4f1b-a0ce-94b337f74bf1',\n",
       " '2fce047b-b40a-42b0-9d89-3f92adb7ef4c',\n",
       " 'e5df238b-31fd-49d4-9b6c-ff72e7840bce',\n",
       " 'ad08873b-e515-46b1-8b0c-991cab70ba16',\n",
       " '3dfed98d-61bb-4d97-9c5a-8dfad72e9334',\n",
       " '8f6f5b11-2dcb-428b-9ecc-3d5c6a563e10',\n",
       " '174e8a84-d737-4dc1-b6b5-c99d5ce057ab',\n",
       " '97e2c417-3e77-4040-a178-856cd2366158',\n",
       " '17bf6b9b-c2f7-4011-bc5b-89a0c513c17b',\n",
       " 'c6de89c4-8fa1-4235-a952-e5257f5a5a06',\n",
       " '5064376b-5c1d-402e-9c7c-773b21154b30',\n",
       " 'bac6e661-a152-4ba8-9830-c40426109bcb',\n",
       " 'd9e5072e-14ea-43b9-b165-939279d50375',\n",
       " '252feb45-30d2-45ec-8492-a63a8234dbb8',\n",
       " '20f22c3d-ec52-4ca8-800b-a30891d6a0c5',\n",
       " '75516572-363d-4f8f-b652-9ba70d059b13',\n",
       " 'b4e3fd8a-ce29-48e4-b6b4-d083eeb2729b',\n",
       " '7d01a4de-a371-458f-a552-8eecda03a7ff',\n",
       " 'faf01ec1-f9c2-4dc2-87de-691a28ce47ad',\n",
       " 'e2273235-0929-4e99-8a8d-e5cc392d48f6',\n",
       " '1613b779-955b-4e61-9c14-cfc92ec6078b',\n",
       " '15df0d05-177b-4caa-b96f-0c31f79d6cd2',\n",
       " '881cf161-60b8-4240-adcc-b3bb3a46306e',\n",
       " '5734e719-d452-449a-8963-05e08d45e781',\n",
       " 'de70afae-663d-4b36-aca7-5ccea29b781d',\n",
       " '9778d876-3295-4c8f-9dca-1a93974117ae',\n",
       " '74548e03-47de-47f9-8b40-a87d06e27d9e',\n",
       " '9c351673-4caa-4f19-b826-273a86632569',\n",
       " '108b1644-e9a2-4f99-aced-ca0ca7e97cc3',\n",
       " '1b1e2f39-1dbf-4dc7-87b1-5b6110c0ab16',\n",
       " '5ccb942e-b351-47ed-932b-8f6968c678ec',\n",
       " '0e929c55-3eaa-4f77-8c2b-ec4b0b5ec227',\n",
       " '4f6b95b1-fe26-46ed-836b-7c53804f0344',\n",
       " '53e5c5ae-bac4-4fc0-95b4-a5e61be6dacb',\n",
       " 'c396685f-963b-462c-b865-e215a21cb565',\n",
       " 'da4f726b-766a-48c2-b637-43fe7b26eb29',\n",
       " '5f682c16-f13c-4183-82a1-58e371f12cea',\n",
       " '6da88906-f39d-4d8c-89cb-871b876d446f',\n",
       " '7c2eaf25-1659-49ff-9d57-80792f3637fb',\n",
       " '99c6f4d2-90eb-42a5-912b-5df1fe5ddd79',\n",
       " '37fa472b-3b4d-4187-9288-d2c6f5b12f34',\n",
       " 'a19a40f1-4931-4baa-977f-4ae5eb37b365',\n",
       " '215266c6-4c77-4fd9-9fe6-6c633b59d62a',\n",
       " 'ec00a4ee-dbb3-46ed-a330-4935c9fc4474',\n",
       " 'dd09235c-589a-4862-bdae-b781e1f6e4ff',\n",
       " 'a5f3fe67-4626-4301-9da2-020d709abc9d',\n",
       " '4ffcbade-f466-4064-97ab-3ca2823f85f4',\n",
       " '87d338d7-a4d6-4892-a47e-fb10e50c9278',\n",
       " '1d4c8736-502d-4b13-8f0a-7b195e64db58',\n",
       " '70bc55ad-f7b6-4c27-a39e-8abdaa26df31',\n",
       " '80c1b5e4-f454-4810-b528-39a569ba1a9d',\n",
       " '13aa74dc-9b38-4127-a70c-d61794293e6e',\n",
       " 'de64eb8f-d3b7-4588-943c-6c4f0722135f',\n",
       " '3a9954bd-78dd-4271-8ff4-fe1f7e3a626e',\n",
       " 'a1008d5a-8cc0-4676-b6ec-55272ac4ff73',\n",
       " '3269f017-c014-4cd8-a196-9b8f5215f523',\n",
       " 'a76ebf63-224f-44d6-82fd-8c48db8001e3',\n",
       " '8537b479-b2b4-4588-9706-f7c55fb65287',\n",
       " '2e5c8a5c-11ef-4214-9a58-d92fff61720f',\n",
       " '8003fb59-2a5e-424f-81fa-8026eaf4de74',\n",
       " '9f2f9fc1-d2e1-4b6a-addd-a42787821208',\n",
       " '6c76118e-65cd-4506-bc4e-12f97d66399c',\n",
       " 'da21c860-4d95-4fa7-a95d-1c9952a81336',\n",
       " 'aa64923e-1c22-43c0-ac8c-9ec8611f4568',\n",
       " '4fd2e32d-18b3-4256-b8c9-cf343408f303',\n",
       " '2da115ec-7bb8-47d1-9a68-c9aecd3834e6',\n",
       " 'a2623d97-4a23-4663-91c3-1d4358dd7ebf',\n",
       " 'eba7b7d5-da73-4394-8b54-0b442b78c043',\n",
       " '7c639eeb-868a-47c4-8d81-9e6f7550f8ff',\n",
       " '7262e396-913f-4bb1-abb9-0b5930b9df0a',\n",
       " '88b6551d-57aa-4421-a307-5f616607b950',\n",
       " 'a8965ec8-d9d4-41af-8866-bf7a6aa18909',\n",
       " 'eb32b943-974a-499d-bdc2-78fb2a7795e4',\n",
       " '1bb135dc-bae6-47e4-ace3-fc557b7b3b13',\n",
       " 'b07d3a49-bd44-4f2d-80fe-8cf340d43107',\n",
       " '40f4f8c7-828b-4f17-b4b2-5d75490a2ff9',\n",
       " 'fb1c70a7-c8c5-4c7b-9f0f-5b38e87f77bc',\n",
       " 'd6ee1550-810b-4e97-8958-72ae08c356d1',\n",
       " 'c75ceee8-6798-4413-8781-1b521f999b35',\n",
       " 'fee09699-f3c9-414a-8000-0c3936e07816',\n",
       " '4937eb04-852f-4765-98dc-1317ce713e54',\n",
       " 'b3659f66-3fc1-4c73-92d4-e0e3c4bd72b4',\n",
       " '25975ea2-cf7d-4b37-900b-d6289919d94a',\n",
       " 'eb2c9b46-93c9-4dae-bbde-294614fb57e8',\n",
       " '0c06af01-c758-40e3-8413-c9da4579a5e0',\n",
       " '35f46d60-59c4-4140-926a-da2befa07226',\n",
       " 'ce216062-3b78-4ed5-b657-e011a118823d',\n",
       " '8bf454a1-da89-4788-bb41-c856afd4518d',\n",
       " '8d06e5a3-2080-48a7-b3fc-bb3a2cbc0e28',\n",
       " '02aa7b5e-aec6-425e-98b8-d10269d4db02',\n",
       " '7fd7f002-9273-4d52-883d-917dfb1a2865',\n",
       " '3a18bbc1-3b8c-46f9-bd9d-e6d9e274fe78',\n",
       " 'dd116c1e-dd6e-4c5b-831a-0fe055621b5f',\n",
       " '85afb3b2-dc5f-431a-b038-25497dd5e91a',\n",
       " 'f38b2b7e-7366-40cb-9df5-d64c2f61e378',\n",
       " '3b02e2d3-5da8-4e9d-b9b4-c2ff919dcd83']"
      ]
     },
     "execution_count": 30,
     "metadata": {},
     "output_type": "execute_result"
    }
   ],
   "source": [
    "import faiss\n",
    "from langchain_community.docstore.in_memory import InMemoryDocstore\n",
    "from langchain_community.vectorstores import FAISS\n",
    "\n",
    "index = faiss.IndexFlatIP(len(openai_embeddings[0]))\n",
    "\n",
    "vector_store = FAISS(\n",
    "    embedding_function=embeddings,\n",
    "    index=index,\n",
    "    docstore=InMemoryDocstore(),\n",
    "    index_to_docstore_id={},\n",
    ")\n",
    "\n",
    "vector_store.add_documents(documents=final_chunks)\n"
   ]
  },
  {
   "cell_type": "markdown",
   "metadata": {},
   "source": [
    "We can also save the vector store in persistent memory to use it later!"
   ]
  },
  {
   "cell_type": "code",
   "execution_count": 31,
   "metadata": {},
   "outputs": [],
   "source": [
    "vector_store.save_local(folder_path=\"../../Assets/Data\",index_name=\"CWC_index\")"
   ]
  },
  {
   "cell_type": "markdown",
   "metadata": {},
   "source": [
    "## Search and Retrieval Example"
   ]
  },
  {
   "cell_type": "markdown",
   "metadata": {},
   "source": [
    "As a glimpse of what happens next, this Vector Index can be used to retrieve documents that are most relevant to the query."
   ]
  },
  {
   "cell_type": "code",
   "execution_count": 32,
   "metadata": {},
   "outputs": [
    {
     "name": "stdout",
     "output_type": "stream",
     "text": [
      "The tournament was contested by ten national teams, maintaining the same format used in  2019 . After six weeks of round-robin matches,  India ,  South Africa ,  Australia , and  New Zealand  finished as the top four and qualified for the knockout stage. In the knockout stage, India and Australia beat New Zealand and South Africa, respectively, to advance to the final, played on 19 November at the  Narendra Modi Stadium  in  Ahmedabad . Australia won the final by six wickets, winning their sixth Cricket World Cup title.\n"
     ]
    }
   ],
   "source": [
    "# Original Question\n",
    "query = \"Who won the World Cup final?\"\n",
    "# Ranking the chunks in descending order of similarity\n",
    "docs = vector_store.similarity_search(query)\n",
    "# Printing the top ranked chunk\n",
    "print(docs[0].page_content)"
   ]
  },
  {
   "cell_type": "markdown",
   "metadata": {},
   "source": [
    "---"
   ]
  },
  {
   "cell_type": "markdown",
   "metadata": {},
   "source": [
    "This brings us at the end of Chapter 3. The four steps of loading, chunking, embedding and storing complete the indexing pipeline. Indexing pipeline is an __offline process__. The Vector Index needs to be created once and then updated at a periodic frequency.\n",
    "\n",
    "In Chapter 4, we will use this created index or knowledge base to handle real-time generations."
   ]
  },
  {
   "cell_type": "markdown",
   "metadata": {},
   "source": [
    "---"
   ]
  },
  {
   "cell_type": "markdown",
   "metadata": {},
   "source": [
    "<img src=\"../../Assets/Images/profile_s.png\" width=100> \n",
    "\n",
    "Hi! I'm Abhinav! I am an entrepreneur and Vice President of Artificial Intelligence at Yarnit. I have spent over 15 years consulting and leadership roles in data science, machine learning and AI. My current focus is in the applied Generative AI domain focussing on solving enterprise needs through contextual intelligence. I'm passionate about AI advancements constantly exploring emerging technologies to push the boundaries and create positive impacts in the world. Let’s build the future, together!\n",
    "\n",
    "[If you haven't already, please subscribe to the MEAP of A Simple Guide to Retrieval Augmented Generation here](https://mng.bz/8wdg)\n",
    "\n",
    "<a href=\"https://mng.bz/8wdg\" target=\"_blank\">\n",
    "    <img src=\"../../Assets/Images/NewMEAPFooter.png\" alt=\"New MEAP\" style=\"width: 100%;\" />\n",
    "</a>\n",
    "\n",
    "#### If you'd like to chat, I'd be very happy to connect\n",
    "\n",
    "[![GitHub followers](https://img.shields.io/badge/Github-000000?style=for-the-badge&logo=github&logoColor=black&color=orange)](https://github.com/abhinav-kimothi)\n",
    "[![LinkedIn](https://img.shields.io/badge/LinkedIn-000000?style=for-the-badge&logo=linkedin&logoColor=orange&color=black)](https://www.linkedin.com/comm/mynetwork/discovery-see-all?usecase=PEOPLE_FOLLOWS&followMember=abhinav-kimothi)\n",
    "[![Medium](https://img.shields.io/badge/Medium-000000?style=for-the-badge&logo=medium&logoColor=black&color=orange)](https://medium.com/@abhinavkimothi)\n",
    "[![Insta](https://img.shields.io/badge/Instagram-000000?style=for-the-badge&logo=instagram&logoColor=orange&color=black)](https://www.instagram.com/akaiworks/)\n",
    "[![Mail](https://img.shields.io/badge/email-000000?style=for-the-badge&logo=gmail&logoColor=black&color=orange)](mailto:abhinav.kimothi.ds@gmail.com)\n",
    "[![X](https://img.shields.io/badge/Follow-000000?style=for-the-badge&logo=X&logoColor=orange&color=black)](https://twitter.com/abhinav_kimothi)\n",
    "[![Linktree](https://img.shields.io/badge/Linktree-000000?style=for-the-badge&logo=linktree&logoColor=black&color=orange)](https://linktr.ee/abhinavkimothi)\n",
    "[![Gumroad](https://img.shields.io/badge/Gumroad-000000?style=for-the-badge&logo=gumroad&logoColor=orange&color=black)](https://abhinavkimothi.gumroad.com/)"
   ]
  }
 ],
 "metadata": {
  "kernelspec": {
   "display_name": ".venv",
   "language": "python",
   "name": "python3"
  },
  "language_info": {
   "codemirror_mode": {
    "name": "ipython",
    "version": 3
   },
   "file_extension": ".py",
   "mimetype": "text/x-python",
   "name": "python",
   "nbconvert_exporter": "python",
   "pygments_lexer": "ipython3",
   "version": "3.12.5"
  }
 },
 "nbformat": 4,
 "nbformat_minor": 4
}
